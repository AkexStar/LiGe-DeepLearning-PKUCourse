{
 "cells": [
  {
   "cell_type": "code",
   "execution_count": null,
   "metadata": {},
   "outputs": [],
   "source": []
  },
  {
   "cell_type": "code",
   "execution_count": 19,
   "metadata": {},
   "outputs": [
    {
     "name": "stdout",
     "output_type": "stream",
     "text": [
      "cpu\n"
     ]
    },
    {
     "name": "stderr",
     "output_type": "stream",
     "text": [
      "Traceback (most recent call last):\n",
      "  File \"_pydevd_bundle/pydevd_cython.pyx\", line 1078, in _pydevd_bundle.pydevd_cython.PyDBFrame.trace_dispatch\n",
      "  File \"_pydevd_bundle/pydevd_cython.pyx\", line 297, in _pydevd_bundle.pydevd_cython.PyDBFrame.do_wait_suspend\n",
      "  File \"/Users/alex/anaconda3/lib/python3.10/site-packages/debugpy/_vendored/pydevd/pydevd.py\", line 1976, in do_wait_suspend\n",
      "    keep_suspended = self._do_wait_suspend(thread, frame, event, arg, suspend_type, from_this_thread, frames_tracker)\n",
      "  File \"/Users/alex/anaconda3/lib/python3.10/site-packages/debugpy/_vendored/pydevd/pydevd.py\", line 2011, in _do_wait_suspend\n",
      "    time.sleep(0.01)\n",
      "KeyboardInterrupt\n"
     ]
    },
    {
     "ename": "KeyboardInterrupt",
     "evalue": "",
     "output_type": "error",
     "traceback": [
      "\u001b[0;31m---------------------------------------------------------------------------\u001b[0m",
      "\u001b[0;31mKeyboardInterrupt\u001b[0m                         Traceback (most recent call last)",
      "Cell \u001b[0;32mIn[19], line 83\u001b[0m\n\u001b[1;32m     81\u001b[0m model\u001b[39m.\u001b[39mto(device)\n\u001b[1;32m     82\u001b[0m \u001b[39m# 对模型进行测试和攻击\u001b[39;00m\n\u001b[0;32m---> 83\u001b[0m adv_examples \u001b[39m=\u001b[39m test(model, device, test_loader, epsilon)\n",
      "Cell \u001b[0;32mIn[19], line 59\u001b[0m, in \u001b[0;36mtest\u001b[0;34m(model, device, test_loader, epsilon)\u001b[0m\n\u001b[1;32m     57\u001b[0m \u001b[39massert\u001b[39;00m data\u001b[39m.\u001b[39mrequires_grad \u001b[39m==\u001b[39m \u001b[39mTrue\u001b[39;00m\n\u001b[1;32m     58\u001b[0m data_grad \u001b[39m=\u001b[39m data\u001b[39m.\u001b[39mgrad\u001b[39m.\u001b[39mdata\n\u001b[0;32m---> 59\u001b[0m perturbed_data \u001b[39m=\u001b[39m ifgsm_attack(image\u001b[39m=\u001b[39mdata, epsilon\u001b[39m=\u001b[39mepsilon, data_grad\u001b[39m=\u001b[39mdata_grad, max_iter\u001b[39m=\u001b[39m\u001b[39m1000\u001b[39m)\n\u001b[1;32m     60\u001b[0m \u001b[39m# 将生成的对抗样本加入列表\u001b[39;00m\n\u001b[1;32m     61\u001b[0m adv_examples\u001b[39m.\u001b[39mappend((data, perturbed_data, target))\n",
      "Cell \u001b[0;32mIn[19], line 59\u001b[0m, in \u001b[0;36mtest\u001b[0;34m(model, device, test_loader, epsilon)\u001b[0m\n\u001b[1;32m     57\u001b[0m \u001b[39massert\u001b[39;00m data\u001b[39m.\u001b[39mrequires_grad \u001b[39m==\u001b[39m \u001b[39mTrue\u001b[39;00m\n\u001b[1;32m     58\u001b[0m data_grad \u001b[39m=\u001b[39m data\u001b[39m.\u001b[39mgrad\u001b[39m.\u001b[39mdata\n\u001b[0;32m---> 59\u001b[0m perturbed_data \u001b[39m=\u001b[39m ifgsm_attack(image\u001b[39m=\u001b[39mdata, epsilon\u001b[39m=\u001b[39mepsilon, data_grad\u001b[39m=\u001b[39mdata_grad, max_iter\u001b[39m=\u001b[39m\u001b[39m1000\u001b[39m)\n\u001b[1;32m     60\u001b[0m \u001b[39m# 将生成的对抗样本加入列表\u001b[39;00m\n\u001b[1;32m     61\u001b[0m adv_examples\u001b[39m.\u001b[39mappend((data, perturbed_data, target))\n",
      "File \u001b[0;32m_pydevd_bundle/pydevd_cython.pyx:1363\u001b[0m, in \u001b[0;36m_pydevd_bundle.pydevd_cython.SafeCallWrapper.__call__\u001b[0;34m()\u001b[0m\n",
      "File \u001b[0;32m_pydevd_bundle/pydevd_cython.pyx:662\u001b[0m, in \u001b[0;36m_pydevd_bundle.pydevd_cython.PyDBFrame.trace_dispatch\u001b[0;34m()\u001b[0m\n",
      "File \u001b[0;32m_pydevd_bundle/pydevd_cython.pyx:1087\u001b[0m, in \u001b[0;36m_pydevd_bundle.pydevd_cython.PyDBFrame.trace_dispatch\u001b[0;34m()\u001b[0m\n",
      "File \u001b[0;32m_pydevd_bundle/pydevd_cython.pyx:1078\u001b[0m, in \u001b[0;36m_pydevd_bundle.pydevd_cython.PyDBFrame.trace_dispatch\u001b[0;34m()\u001b[0m\n",
      "File \u001b[0;32m_pydevd_bundle/pydevd_cython.pyx:297\u001b[0m, in \u001b[0;36m_pydevd_bundle.pydevd_cython.PyDBFrame.do_wait_suspend\u001b[0;34m()\u001b[0m\n",
      "File \u001b[0;32m~/anaconda3/lib/python3.10/site-packages/debugpy/_vendored/pydevd/pydevd.py:1976\u001b[0m, in \u001b[0;36mPyDB.do_wait_suspend\u001b[0;34m(self, thread, frame, event, arg, exception_type)\u001b[0m\n\u001b[1;32m   1973\u001b[0m             from_this_thread\u001b[39m.\u001b[39mappend(frame_custom_thread_id)\n\u001b[1;32m   1975\u001b[0m     \u001b[39mwith\u001b[39;00m \u001b[39mself\u001b[39m\u001b[39m.\u001b[39m_threads_suspended_single_notification\u001b[39m.\u001b[39mnotify_thread_suspended(thread_id, stop_reason):\n\u001b[0;32m-> 1976\u001b[0m         keep_suspended \u001b[39m=\u001b[39m \u001b[39mself\u001b[39;49m\u001b[39m.\u001b[39;49m_do_wait_suspend(thread, frame, event, arg, suspend_type, from_this_thread, frames_tracker)\n\u001b[1;32m   1978\u001b[0m frames_list \u001b[39m=\u001b[39m \u001b[39mNone\u001b[39;00m\n\u001b[1;32m   1980\u001b[0m \u001b[39mif\u001b[39;00m keep_suspended:\n\u001b[1;32m   1981\u001b[0m     \u001b[39m# This means that we should pause again after a set next statement.\u001b[39;00m\n",
      "File \u001b[0;32m~/anaconda3/lib/python3.10/site-packages/debugpy/_vendored/pydevd/pydevd.py:2011\u001b[0m, in \u001b[0;36mPyDB._do_wait_suspend\u001b[0;34m(self, thread, frame, event, arg, suspend_type, from_this_thread, frames_tracker)\u001b[0m\n\u001b[1;32m   2008\u001b[0m         \u001b[39mself\u001b[39m\u001b[39m.\u001b[39m_call_mpl_hook()\n\u001b[1;32m   2010\u001b[0m     \u001b[39mself\u001b[39m\u001b[39m.\u001b[39mprocess_internal_commands()\n\u001b[0;32m-> 2011\u001b[0m     time\u001b[39m.\u001b[39;49msleep(\u001b[39m0.01\u001b[39;49m)\n\u001b[1;32m   2013\u001b[0m \u001b[39mself\u001b[39m\u001b[39m.\u001b[39mcancel_async_evaluation(get_current_thread_id(thread), \u001b[39mstr\u001b[39m(\u001b[39mid\u001b[39m(frame)))\n\u001b[1;32m   2015\u001b[0m \u001b[39m# process any stepping instructions\u001b[39;00m\n",
      "\u001b[0;31mKeyboardInterrupt\u001b[0m: "
     ]
    }
   ],
   "source": [
    "import torch\n",
    "import torchvision\n",
    "from torchvision import transforms\n",
    "import torch.nn as nn\n",
    "\n",
    "transform_test = transforms.Compose([\n",
    "        transforms.ToTensor(),\n",
    "        transforms.Normalize(mean=(0.2860,), std=(0.3530,))\n",
    "    ])\n",
    "# 加载测试集\n",
    "test_data = torchvision.datasets.FashionMNIST(root='./data', train=False, download=True, transform=transform_test)\n",
    "test_loader = torch.utils.data.DataLoader(test_data, batch_size=1, shuffle=True)\n",
    "\n",
    "# 定义攻击函数\n",
    "def ifgsm_attack(image, epsilon, data_grad, max_iter):\n",
    "    # 初始化扰动值\n",
    "    perturbed_image = image\n",
    "    # 迭代更新扰动值\n",
    "    for i in range(max_iter):\n",
    "        # 计算梯度并更新扰动值\n",
    "        perturbed_image.requires_grad = True\n",
    "        output = model(perturbed_image)\n",
    "        criterion = nn.CrossEntropyLoss()\n",
    "        loss = criterion(output, target)\n",
    "        model.zero_grad()\n",
    "        loss.backward()\n",
    "        data_grad = perturbed_image.grad.data\n",
    "        perturbed_image = perturbed_image + epsilon * data_grad.sign()\n",
    "        # 限制像素值范围在[0,1]\n",
    "        perturbed_image = torch.clamp(perturbed_image, 0, 1)\n",
    "        # 如果扰动图像已经被误分类，停止攻击\n",
    "        if model(perturbed_image).max(1, keepdim=True)[1] != target:\n",
    "            break\n",
    "    return perturbed_image\n",
    "\n",
    "# 定义测试函数\n",
    "def test(model, device, test_loader, epsilon):\n",
    "    model.eval()\n",
    "    correct = 0\n",
    "    adv_examples = []\n",
    "    for data, target in test_loader:\n",
    "        # 找到被分类正确的图像\n",
    "        data, target = data.to(device), target.to(device)\n",
    "        output = model(data)\n",
    "        init_pred = output.max(1, keepdim=True)[1]\n",
    "        if init_pred.item() != target.item():\n",
    "            continue\n",
    "        correct += 1\n",
    "        # 对该图像进行攻击\n",
    "        data.requires_grad = True\n",
    "        output = model(data)\n",
    "        attack_target = (target + 1) % 10\n",
    "        criterion = nn.CrossEntropyLoss()\n",
    "        loss = criterion(output, attack_target)\n",
    "        model.zero_grad()\n",
    "        loss.backward()\n",
    "        assert data.requires_grad == True\n",
    "        data_grad = data.grad.data\n",
    "        perturbed_data = ifgsm_attack(image=data, epsilon=epsilon, data_grad=data_grad, max_iter=1000)\n",
    "        # 将生成的对抗样本加入列表\n",
    "        adv_examples.append((data, perturbed_data, target))\n",
    "        # 打印进度信息\n",
    "        if len(adv_examples) >= 1000:\n",
    "            break\n",
    "        if len(adv_examples) % 100 == 0:\n",
    "            print(f\"Attack progress: {len(adv_examples)}/{1000}\")\n",
    "    # 计算攻击成功率\n",
    "    final_acc = correct / float(len(test_loader))\n",
    "    print(f\"Correctly classified examples: {correct}/{len(test_loader)}\")\n",
    "    print(f\"Attack success rate: {(1000-correct)/1000:.4f}\")\n",
    "    return adv_examples\n",
    "\n",
    "# 设置攻击参数\n",
    "device = torch.device(\"cuda\" if torch.cuda.is_available() else \"cpu\")\n",
    "print(device)\n",
    "epsilon = 0.1\n",
    "model = torchvision.models.resnet34(weights=None, num_classes=10)\n",
    "model.conv1 = nn.Conv2d(1, 64, kernel_size=3, stride=1, padding=1, bias=False)\n",
    "model.fc = nn.Linear(model.fc.in_features, 10)  # 更改最后一层全连接层\n",
    "model.load_state_dict(torch.load('./checkpoints/checkpoint-60-93.71.pt'))\n",
    "model.to(device)\n",
    "# 对模型进行测试和攻击\n",
    "adv_examples = test(model, device, test_loader, epsilon)\n"
   ]
  },
  {
   "cell_type": "code",
   "execution_count": null,
   "metadata": {},
   "outputs": [],
   "source": []
  }
 ],
 "metadata": {
  "kernelspec": {
   "display_name": "base",
   "language": "python",
   "name": "python3"
  },
  "language_info": {
   "codemirror_mode": {
    "name": "ipython",
    "version": 3
   },
   "file_extension": ".py",
   "mimetype": "text/x-python",
   "name": "python",
   "nbconvert_exporter": "python",
   "pygments_lexer": "ipython3",
   "version": "3.10.10"
  },
  "orig_nbformat": 4
 },
 "nbformat": 4,
 "nbformat_minor": 2
}
